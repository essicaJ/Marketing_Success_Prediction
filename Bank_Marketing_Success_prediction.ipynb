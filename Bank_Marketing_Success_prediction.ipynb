{
 "cells": [
  {
   "attachments": {},
   "cell_type": "markdown",
   "metadata": {},
   "source": [
    "### Bank Marketing Campaign Success Prediction\n",
    "https://www.kaggle.com/datasets/prakharrathi25/banking-dataset-marketing-targets"
   ]
  },
  {
   "cell_type": "code",
   "execution_count": 80,
   "metadata": {},
   "outputs": [],
   "source": [
    "# importing libraries\n",
    "import numpy as np\n",
    "import pandas as pd\n",
    "import matplotlib.pyplot as plt\n",
    "import seaborn as sns\n",
    "\n",
    "# modeling\n",
    "from sklearn.preprocessing import StandardScaler\n",
    "from sklearn.model_selection import train_test_split\n",
    "from imblearn.over_sampling import RandomOverSampler\n",
    "from imblearn.under_sampling import RandomUnderSampler\n",
    "from sklearn.model_selection import GridSearchCV\n",
    "from sklearn.linear_model import LogisticRegression\n",
    "from sklearn.ensemble import RandomForestClassifier\n",
    "from sklearn.metrics import confusion_matrix, ConfusionMatrixDisplay, classification_report\n",
    "from sklearn.metrics import f1_score, accuracy_score, recall_score, precision_score, roc_auc_score\n",
    "# xgboost\n",
    "from xgboost import XGBClassifier\n",
    "import time\n",
    "\n",
    "import graphviz \n",
    "from sklearn import tree"
   ]
  },
  {
   "attachments": {},
   "cell_type": "markdown",
   "metadata": {},
   "source": [
    "## Data Exploration & Visualization"
   ]
  },
  {
   "cell_type": "code",
   "execution_count": 5,
   "metadata": {},
   "outputs": [],
   "source": [
    "#importing dataset\n",
    "df = pd.read_csv('train.csv', sep=';')"
   ]
  },
  {
   "cell_type": "code",
   "execution_count": 6,
   "metadata": {},
   "outputs": [
    {
     "data": {
      "text/plain": [
       "(45211, 17)"
      ]
     },
     "execution_count": 6,
     "metadata": {},
     "output_type": "execute_result"
    }
   ],
   "source": [
    "# check the shape of the data: row: 45211 samples, column: 17 attributes\n",
    "df.shape"
   ]
  },
  {
   "cell_type": "code",
   "execution_count": 7,
   "metadata": {},
   "outputs": [
    {
     "data": {
      "text/html": [
       "<div>\n",
       "<style scoped>\n",
       "    .dataframe tbody tr th:only-of-type {\n",
       "        vertical-align: middle;\n",
       "    }\n",
       "\n",
       "    .dataframe tbody tr th {\n",
       "        vertical-align: top;\n",
       "    }\n",
       "\n",
       "    .dataframe thead th {\n",
       "        text-align: right;\n",
       "    }\n",
       "</style>\n",
       "<table border=\"1\" class=\"dataframe\">\n",
       "  <thead>\n",
       "    <tr style=\"text-align: right;\">\n",
       "      <th></th>\n",
       "      <th>age</th>\n",
       "      <th>job</th>\n",
       "      <th>marital</th>\n",
       "      <th>education</th>\n",
       "      <th>default</th>\n",
       "      <th>balance</th>\n",
       "      <th>housing</th>\n",
       "      <th>loan</th>\n",
       "      <th>contact</th>\n",
       "      <th>day</th>\n",
       "      <th>month</th>\n",
       "      <th>duration</th>\n",
       "      <th>campaign</th>\n",
       "      <th>pdays</th>\n",
       "      <th>previous</th>\n",
       "      <th>poutcome</th>\n",
       "      <th>y</th>\n",
       "    </tr>\n",
       "  </thead>\n",
       "  <tbody>\n",
       "    <tr>\n",
       "      <th>0</th>\n",
       "      <td>58</td>\n",
       "      <td>management</td>\n",
       "      <td>married</td>\n",
       "      <td>tertiary</td>\n",
       "      <td>no</td>\n",
       "      <td>2143</td>\n",
       "      <td>yes</td>\n",
       "      <td>no</td>\n",
       "      <td>unknown</td>\n",
       "      <td>5</td>\n",
       "      <td>may</td>\n",
       "      <td>261</td>\n",
       "      <td>1</td>\n",
       "      <td>-1</td>\n",
       "      <td>0</td>\n",
       "      <td>unknown</td>\n",
       "      <td>no</td>\n",
       "    </tr>\n",
       "    <tr>\n",
       "      <th>1</th>\n",
       "      <td>44</td>\n",
       "      <td>technician</td>\n",
       "      <td>single</td>\n",
       "      <td>secondary</td>\n",
       "      <td>no</td>\n",
       "      <td>29</td>\n",
       "      <td>yes</td>\n",
       "      <td>no</td>\n",
       "      <td>unknown</td>\n",
       "      <td>5</td>\n",
       "      <td>may</td>\n",
       "      <td>151</td>\n",
       "      <td>1</td>\n",
       "      <td>-1</td>\n",
       "      <td>0</td>\n",
       "      <td>unknown</td>\n",
       "      <td>no</td>\n",
       "    </tr>\n",
       "    <tr>\n",
       "      <th>2</th>\n",
       "      <td>33</td>\n",
       "      <td>entrepreneur</td>\n",
       "      <td>married</td>\n",
       "      <td>secondary</td>\n",
       "      <td>no</td>\n",
       "      <td>2</td>\n",
       "      <td>yes</td>\n",
       "      <td>yes</td>\n",
       "      <td>unknown</td>\n",
       "      <td>5</td>\n",
       "      <td>may</td>\n",
       "      <td>76</td>\n",
       "      <td>1</td>\n",
       "      <td>-1</td>\n",
       "      <td>0</td>\n",
       "      <td>unknown</td>\n",
       "      <td>no</td>\n",
       "    </tr>\n",
       "    <tr>\n",
       "      <th>3</th>\n",
       "      <td>47</td>\n",
       "      <td>blue-collar</td>\n",
       "      <td>married</td>\n",
       "      <td>unknown</td>\n",
       "      <td>no</td>\n",
       "      <td>1506</td>\n",
       "      <td>yes</td>\n",
       "      <td>no</td>\n",
       "      <td>unknown</td>\n",
       "      <td>5</td>\n",
       "      <td>may</td>\n",
       "      <td>92</td>\n",
       "      <td>1</td>\n",
       "      <td>-1</td>\n",
       "      <td>0</td>\n",
       "      <td>unknown</td>\n",
       "      <td>no</td>\n",
       "    </tr>\n",
       "    <tr>\n",
       "      <th>4</th>\n",
       "      <td>33</td>\n",
       "      <td>unknown</td>\n",
       "      <td>single</td>\n",
       "      <td>unknown</td>\n",
       "      <td>no</td>\n",
       "      <td>1</td>\n",
       "      <td>no</td>\n",
       "      <td>no</td>\n",
       "      <td>unknown</td>\n",
       "      <td>5</td>\n",
       "      <td>may</td>\n",
       "      <td>198</td>\n",
       "      <td>1</td>\n",
       "      <td>-1</td>\n",
       "      <td>0</td>\n",
       "      <td>unknown</td>\n",
       "      <td>no</td>\n",
       "    </tr>\n",
       "  </tbody>\n",
       "</table>\n",
       "</div>"
      ],
      "text/plain": [
       "   age           job  marital  education default  balance housing loan  \\\n",
       "0   58    management  married   tertiary      no     2143     yes   no   \n",
       "1   44    technician   single  secondary      no       29     yes   no   \n",
       "2   33  entrepreneur  married  secondary      no        2     yes  yes   \n",
       "3   47   blue-collar  married    unknown      no     1506     yes   no   \n",
       "4   33       unknown   single    unknown      no        1      no   no   \n",
       "\n",
       "   contact  day month  duration  campaign  pdays  previous poutcome   y  \n",
       "0  unknown    5   may       261         1     -1         0  unknown  no  \n",
       "1  unknown    5   may       151         1     -1         0  unknown  no  \n",
       "2  unknown    5   may        76         1     -1         0  unknown  no  \n",
       "3  unknown    5   may        92         1     -1         0  unknown  no  \n",
       "4  unknown    5   may       198         1     -1         0  unknown  no  "
      ]
     },
     "execution_count": 7,
     "metadata": {},
     "output_type": "execute_result"
    }
   ],
   "source": [
    "# example rows of the dataset\n",
    "df.head()"
   ]
  },
  {
   "attachments": {},
   "cell_type": "markdown",
   "metadata": {},
   "source": [
    "There are 16 features, which includes 9 categorical and 7 numerical features"
   ]
  },
  {
   "cell_type": "code",
   "execution_count": 8,
   "metadata": {},
   "outputs": [
    {
     "name": "stdout",
     "output_type": "stream",
     "text": [
      "<class 'pandas.core.frame.DataFrame'>\n",
      "RangeIndex: 45211 entries, 0 to 45210\n",
      "Data columns (total 17 columns):\n",
      " #   Column     Non-Null Count  Dtype \n",
      "---  ------     --------------  ----- \n",
      " 0   age        45211 non-null  int64 \n",
      " 1   job        45211 non-null  object\n",
      " 2   marital    45211 non-null  object\n",
      " 3   education  45211 non-null  object\n",
      " 4   default    45211 non-null  object\n",
      " 5   balance    45211 non-null  int64 \n",
      " 6   housing    45211 non-null  object\n",
      " 7   loan       45211 non-null  object\n",
      " 8   contact    45211 non-null  object\n",
      " 9   day        45211 non-null  int64 \n",
      " 10  month      45211 non-null  object\n",
      " 11  duration   45211 non-null  int64 \n",
      " 12  campaign   45211 non-null  int64 \n",
      " 13  pdays      45211 non-null  int64 \n",
      " 14  previous   45211 non-null  int64 \n",
      " 15  poutcome   45211 non-null  object\n",
      " 16  y          45211 non-null  object\n",
      "dtypes: int64(7), object(10)\n",
      "memory usage: 5.9+ MB\n"
     ]
    }
   ],
   "source": [
    "# overview of variables\n",
    "df.info()"
   ]
  },
  {
   "attachments": {},
   "cell_type": "markdown",
   "metadata": {},
   "source": [
    "#### Here are the descriptions of attributes, adopted from https://www.kaggle.com/datasets/prakharrathi25/banking-dataset-marketing-targets\n",
    "- age (numeric)\n",
    "- job : type of job (categorical: \"admin.\",\"unknown\",\"unemployed\",\"management\",\"housemaid\",\"entrepreneur\",\"student\",\n",
    "                    \"blue-collar\",\"self-employed\",\"retired\",\"technician\",\"services\")\n",
    "- marital : marital status (categorical: \"married\",\"divorced\",\"single\"; note: \"divorced\" means divorced or widowed)\n",
    "- education (categorical: \"unknown\",\"secondary\",\"primary\",\"tertiary\")\n",
    "- default: has credit in default? (binary: \"yes\",\"no\")\n",
    "- balance: average yearly balance, in euros (numeric)\n",
    "- housing: has housing loan? (binary: \"yes\",\"no\")\n",
    "- loan: has personal loan? (binary: \"yes\",\"no\")\n",
    "##### related with the last contact of the current campaign:\n",
    "- contact: contact communication type (categorical: \"unknown\",\"telephone\",\"cellular\")\n",
    "- day: last contact day of the month (numeric)\n",
    "- month: last contact month of year (categorical: \"jan\", \"feb\", \"mar\", …, \"nov\", \"dec\")\n",
    "- duration: last contact duration, in seconds (numeric)\n",
    "##### other attributes:\n",
    "- campaign: number of contacts performed during this campaign and for this client (numeric, includes last contact)\n",
    "- pdays: number of days that passed by after the client was last contacted from a previous campaign (numeric, -1 means client was not previously contacted)\n",
    "- previous: number of contacts performed before this campaign and for this client (numeric)\n",
    "- poutcome: outcome of the previous marketing campaign (categorical: \"unknown\",\"other\",\"failure\",\"success\")\n",
    "##### Output variable (desired target):\n",
    "- y - has the client subscribed a term deposit? (binary: \"yes\",\"no\")"
   ]
  },
  {
   "cell_type": "code",
   "execution_count": 9,
   "metadata": {},
   "outputs": [],
   "source": [
    "numerical_col = ['age', 'balance', 'duration', 'campaign', 'pdays', 'previous']\n",
    "categorical_col = ['job', 'marital', 'education', 'default', 'housing', 'loan',\n",
    "                   'contact', 'poutcome']\n",
    "date_col = ['day', 'month']"
   ]
  },
  {
   "cell_type": "code",
   "execution_count": 10,
   "metadata": {},
   "outputs": [
    {
     "data": {
      "text/plain": [
       "age          0\n",
       "job          0\n",
       "marital      0\n",
       "education    0\n",
       "default      0\n",
       "balance      0\n",
       "housing      0\n",
       "loan         0\n",
       "contact      0\n",
       "day          0\n",
       "month        0\n",
       "duration     0\n",
       "campaign     0\n",
       "pdays        0\n",
       "previous     0\n",
       "poutcome     0\n",
       "y            0\n",
       "dtype: int64"
      ]
     },
     "execution_count": 10,
     "metadata": {},
     "output_type": "execute_result"
    }
   ],
   "source": [
    "#check if null exists\n",
    "df.isnull().sum()"
   ]
  },
  {
   "attachments": {},
   "cell_type": "markdown",
   "metadata": {},
   "source": [
    "### check class distribution\n",
    "There are 39922 samples in class 0 (no) and 5289 in class 1（yes), which is very imbalanced"
   ]
  },
  {
   "cell_type": "code",
   "execution_count": 11,
   "metadata": {},
   "outputs": [
    {
     "data": {
      "text/plain": [
       "no     39922\n",
       "yes     5289\n",
       "Name: y, dtype: int64"
      ]
     },
     "execution_count": 11,
     "metadata": {},
     "output_type": "execute_result"
    }
   ],
   "source": [
    "# check the distribution of the target variable\n",
    "df['y'].value_counts()"
   ]
  },
  {
   "cell_type": "code",
   "execution_count": 12,
   "metadata": {},
   "outputs": [
    {
     "data": {
      "text/plain": [
       "no     0.883015\n",
       "yes    0.116985\n",
       "Name: y, dtype: float64"
      ]
     },
     "execution_count": 12,
     "metadata": {},
     "output_type": "execute_result"
    }
   ],
   "source": [
    "df['y'].value_counts(normalize=True)"
   ]
  },
  {
   "cell_type": "code",
   "execution_count": 13,
   "metadata": {},
   "outputs": [
    {
     "data": {
      "text/plain": [
       "<AxesSubplot: >"
      ]
     },
     "execution_count": 13,
     "metadata": {},
     "output_type": "execute_result"
    },
    {
     "data": {
      "image/png": "[encoded data removed]",
      "text/plain": [
       "<Figure size 640x480 with 1 Axes>"
      ]
     },
     "metadata": {},
     "output_type": "display_data"
    }
   ],
   "source": [
    "df['y'].value_counts().plot(kind='bar')"
   ]
  },
  {
   "attachments": {},
   "cell_type": "markdown",
   "metadata": {},
   "source": [
    "#### check multi-collinearity\n",
    "- no multicollinearity was found between all numerical variables"
   ]
  },
  {
   "cell_type": "code",
   "execution_count": 14,
   "metadata": {},
   "outputs": [
    {
     "data": {
      "text/plain": [
       "<AxesSubplot: >"
      ]
     },
     "execution_count": 14,
     "metadata": {},
     "output_type": "execute_result"
    },
    {
     "data": {
      "image/png": "[encoded data removed]",
      "text/plain": [
       "<Figure size 1000x1000 with 2 Axes>"
      ]
     },
     "metadata": {},
     "output_type": "display_data"
    }
   ],
   "source": [
    "# check for multicollinearity\n",
    "corr = df.corr(numeric_only=True)\n",
    "plt.figure(figsize=(10,10))\n",
    "sns.heatmap(corr, annot=True, cmap='coolwarm')\n"
   ]
  },
  {
   "attachments": {},
   "cell_type": "markdown",
   "metadata": {},
   "source": [
    "#### Visualize the Data"
   ]
  },
  {
   "attachments": {},
   "cell_type": "markdown",
   "metadata": {},
   "source": [
    "- ##### Visualize distribution of numerical data: \n",
    "we can see that the distribution of numerical variables are not normal, most of them are skewed with tail on the right side, this means that majority of customers were not contacted before, or the last effort was not significant; Thus, I will remove outliers before modeling."
   ]
  },
  {
   "cell_type": "code",
   "execution_count": 15,
   "metadata": {},
   "outputs": [
    {
     "data": {
      "text/plain": [
       "array([[<AxesSubplot: title={'center': 'age'}>,\n",
       "        <AxesSubplot: title={'center': 'balance'}>,\n",
       "        <AxesSubplot: title={'center': 'day'}>],\n",
       "       [<AxesSubplot: title={'center': 'duration'}>,\n",
       "        <AxesSubplot: title={'center': 'campaign'}>,\n",
       "        <AxesSubplot: title={'center': 'pdays'}>],\n",
       "       [<AxesSubplot: title={'center': 'previous'}>, <AxesSubplot: >,\n",
       "        <AxesSubplot: >]], dtype=object)"
      ]
     },
     "execution_count": 15,
     "metadata": {},
     "output_type": "execute_result"
    },
    {
     "data": {
      "image/png": "[encoded data removed]",
      "text/plain": [
       "<Figure size 1000x1000 with 9 Axes>"
      ]
     },
     "metadata": {},
     "output_type": "display_data"
    }
   ],
   "source": [
    "# visualize the distribution of numerical variables\n",
    "df.hist(figsize=(10,10), bins=20)"
   ]
  },
  {
   "attachments": {},
   "cell_type": "markdown",
   "metadata": {},
   "source": [
    "- ##### Visualize frequency of target value for categororical variables: \n",
    "we can see that bank contacted more customers with stable jobs like management than people who are retired, unemployed or are students.They also contacted more married person, people with higher education \n",
    "It's also interesting to see that banks contacted more people w/ housing loans, but those without loans subscribed more; likewise, people without loans were contacted more and subscribed more."
   ]
  },
  {
   "cell_type": "code",
   "execution_count": 16,
   "metadata": {},
   "outputs": [
    {
     "data": {
      "image/png": "[encoded data removed]",
      "text/plain": [
       "<Figure size 1000x500 with 1 Axes>"
      ]
     },
     "metadata": {},
     "output_type": "display_data"
    },
    {
     "data": {
      "image/png": "[encoded data removed]",
      "text/plain": [
       "<Figure size 1000x500 with 1 Axes>"
      ]
     },
     "metadata": {},
     "output_type": "display_data"
    },
    {
     "data": {
      "image/png": "[encoded data removed]",
      "text/plain": [
       "<Figure size 1000x500 with 1 Axes>"
      ]
     },
     "metadata": {},
     "output_type": "display_data"
    },
    {
     "data": {
      "image/png": "[encoded data removed]",
      "text/plain": [
       "<Figure size 1000x500 with 1 Axes>"
      ]
     },
     "metadata": {},
     "output_type": "display_data"
    },
    {
     "data": {
      "image/png": "[encoded data removed]",
      "text/plain": [
       "<Figure size 1000x500 with 1 Axes>"
      ]
     },
     "metadata": {},
     "output_type": "display_data"
    },
    {
     "data": {
      "image/png": "[encoded data removed]",
      "text/plain": [
       "<Figure size 1000x500 with 1 Axes>"
      ]
     },
     "metadata": {},
     "output_type": "display_data"
    },
    {
     "data": {
      "image/png": "[encoded data removed]",
      "text/plain": [
       "<Figure size 1000x500 with 1 Axes>"
      ]
     },
     "metadata": {},
     "output_type": "display_data"
    },
    {
     "data": {
      "image/png": "[encoded data removed]",
      "text/plain": [
       "<Figure size 1000x500 with 1 Axes>"
      ]
     },
     "metadata": {},
     "output_type": "display_data"
    }
   ],
   "source": [
    "# Visualize frequency of target value for categororical variables\n",
    "for col in categorical_col:\n",
    "    plt.figure(figsize=(10,5))\n",
    "    sns.countplot(x=col, hue='y', data=df, order = df[col].value_counts().index)\n",
    "    plt.xticks(rotation=45)"
   ]
  },
  {
   "attachments": {},
   "cell_type": "markdown",
   "metadata": {},
   "source": [
    "#### Data Preparation\n",
    "1. remove outliers and \"unknowns\"\n",
    "2. Feature Engineering "
   ]
  },
  {
   "attachments": {},
   "cell_type": "markdown",
   "metadata": {},
   "source": [
    "- ##### Check \"unknowns\""
   ]
  },
  {
   "cell_type": "code",
   "execution_count": 17,
   "metadata": {},
   "outputs": [
    {
     "data": {
      "text/plain": [
       "blue-collar      9732\n",
       "management       9458\n",
       "technician       7597\n",
       "admin.           5171\n",
       "services         4154\n",
       "retired          2264\n",
       "self-employed    1579\n",
       "entrepreneur     1487\n",
       "unemployed       1303\n",
       "housemaid        1240\n",
       "student           938\n",
       "unknown           288\n",
       "Name: job, dtype: int64"
      ]
     },
     "execution_count": 17,
     "metadata": {},
     "output_type": "execute_result"
    }
   ],
   "source": [
    "# check the features with \"unknown\" values\n",
    "df['job'].value_counts()"
   ]
  },
  {
   "cell_type": "code",
   "execution_count": 18,
   "metadata": {},
   "outputs": [
    {
     "data": {
      "text/plain": [
       "secondary    23202\n",
       "tertiary     13301\n",
       "primary       6851\n",
       "unknown       1857\n",
       "Name: education, dtype: int64"
      ]
     },
     "execution_count": 18,
     "metadata": {},
     "output_type": "execute_result"
    }
   ],
   "source": [
    "df['education'].value_counts()"
   ]
  },
  {
   "cell_type": "code",
   "execution_count": 19,
   "metadata": {},
   "outputs": [
    {
     "data": {
      "text/plain": [
       "cellular     29285\n",
       "unknown      13020\n",
       "telephone     2906\n",
       "Name: contact, dtype: int64"
      ]
     },
     "execution_count": 19,
     "metadata": {},
     "output_type": "execute_result"
    }
   ],
   "source": [
    "df['contact'].value_counts()"
   ]
  },
  {
   "cell_type": "code",
   "execution_count": 20,
   "metadata": {},
   "outputs": [],
   "source": [
    "# Because 'unknown' values are not very large in job and education, we can replace them with the most frequent value\n",
    "df['job'].replace('unknown', 'blue-collar', inplace=True)\n",
    "df['education'].replace('unknown', 'secondary', inplace=True)\n",
    "# Because 'unknown' values are very large in contact, we will not do anything with them since the amount might be informative"
   ]
  },
  {
   "attachments": {},
   "cell_type": "markdown",
   "metadata": {},
   "source": [
    "- ##### Check outliers"
   ]
  },
  {
   "cell_type": "code",
   "execution_count": 21,
   "metadata": {},
   "outputs": [
    {
     "data": {
      "text/html": [
       "<div>\n",
       "<style scoped>\n",
       "    .dataframe tbody tr th:only-of-type {\n",
       "        vertical-align: middle;\n",
       "    }\n",
       "\n",
       "    .dataframe tbody tr th {\n",
       "        vertical-align: top;\n",
       "    }\n",
       "\n",
       "    .dataframe thead th {\n",
       "        text-align: right;\n",
       "    }\n",
       "</style>\n",
       "<table border=\"1\" class=\"dataframe\">\n",
       "  <thead>\n",
       "    <tr style=\"text-align: right;\">\n",
       "      <th></th>\n",
       "      <th>age</th>\n",
       "      <th>balance</th>\n",
       "      <th>duration</th>\n",
       "      <th>campaign</th>\n",
       "      <th>pdays</th>\n",
       "      <th>previous</th>\n",
       "    </tr>\n",
       "  </thead>\n",
       "  <tbody>\n",
       "    <tr>\n",
       "      <th>count</th>\n",
       "      <td>45211.000000</td>\n",
       "      <td>45211.000000</td>\n",
       "      <td>45211.000000</td>\n",
       "      <td>45211.000000</td>\n",
       "      <td>45211.000000</td>\n",
       "      <td>45211.000000</td>\n",
       "    </tr>\n",
       "    <tr>\n",
       "      <th>mean</th>\n",
       "      <td>40.936210</td>\n",
       "      <td>1362.272058</td>\n",
       "      <td>258.163080</td>\n",
       "      <td>2.763841</td>\n",
       "      <td>40.197828</td>\n",
       "      <td>0.580323</td>\n",
       "    </tr>\n",
       "    <tr>\n",
       "      <th>std</th>\n",
       "      <td>10.618762</td>\n",
       "      <td>3044.765829</td>\n",
       "      <td>257.527812</td>\n",
       "      <td>3.098021</td>\n",
       "      <td>100.128746</td>\n",
       "      <td>2.303441</td>\n",
       "    </tr>\n",
       "    <tr>\n",
       "      <th>min</th>\n",
       "      <td>18.000000</td>\n",
       "      <td>-8019.000000</td>\n",
       "      <td>0.000000</td>\n",
       "      <td>1.000000</td>\n",
       "      <td>-1.000000</td>\n",
       "      <td>0.000000</td>\n",
       "    </tr>\n",
       "    <tr>\n",
       "      <th>25%</th>\n",
       "      <td>33.000000</td>\n",
       "      <td>72.000000</td>\n",
       "      <td>103.000000</td>\n",
       "      <td>1.000000</td>\n",
       "      <td>-1.000000</td>\n",
       "      <td>0.000000</td>\n",
       "    </tr>\n",
       "    <tr>\n",
       "      <th>50%</th>\n",
       "      <td>39.000000</td>\n",
       "      <td>448.000000</td>\n",
       "      <td>180.000000</td>\n",
       "      <td>2.000000</td>\n",
       "      <td>-1.000000</td>\n",
       "      <td>0.000000</td>\n",
       "    </tr>\n",
       "    <tr>\n",
       "      <th>75%</th>\n",
       "      <td>48.000000</td>\n",
       "      <td>1428.000000</td>\n",
       "      <td>319.000000</td>\n",
       "      <td>3.000000</td>\n",
       "      <td>-1.000000</td>\n",
       "      <td>0.000000</td>\n",
       "    </tr>\n",
       "    <tr>\n",
       "      <th>max</th>\n",
       "      <td>95.000000</td>\n",
       "      <td>102127.000000</td>\n",
       "      <td>4918.000000</td>\n",
       "      <td>63.000000</td>\n",
       "      <td>871.000000</td>\n",
       "      <td>275.000000</td>\n",
       "    </tr>\n",
       "  </tbody>\n",
       "</table>\n",
       "</div>"
      ],
      "text/plain": [
       "                age        balance      duration      campaign         pdays  \\\n",
       "count  45211.000000   45211.000000  45211.000000  45211.000000  45211.000000   \n",
       "mean      40.936210    1362.272058    258.163080      2.763841     40.197828   \n",
       "std       10.618762    3044.765829    257.527812      3.098021    100.128746   \n",
       "min       18.000000   -8019.000000      0.000000      1.000000     -1.000000   \n",
       "25%       33.000000      72.000000    103.000000      1.000000     -1.000000   \n",
       "50%       39.000000     448.000000    180.000000      2.000000     -1.000000   \n",
       "75%       48.000000    1428.000000    319.000000      3.000000     -1.000000   \n",
       "max       95.000000  102127.000000   4918.000000     63.000000    871.000000   \n",
       "\n",
       "           previous  \n",
       "count  45211.000000  \n",
       "mean       0.580323  \n",
       "std        2.303441  \n",
       "min        0.000000  \n",
       "25%        0.000000  \n",
       "50%        0.000000  \n",
       "75%        0.000000  \n",
       "max      275.000000  "
      ]
     },
     "execution_count": 21,
     "metadata": {},
     "output_type": "execute_result"
    }
   ],
   "source": [
    "df[numerical_col].describe()"
   ]
  },
  {
   "cell_type": "code",
   "execution_count": 22,
   "metadata": {},
   "outputs": [
    {
     "data": {
      "text/plain": [
       "(72.0, 1428.0, -1962.0, 3462.0)"
      ]
     },
     "execution_count": 22,
     "metadata": {},
     "output_type": "execute_result"
    }
   ],
   "source": [
    "# according to the description, we can see that balance, duration, campaign, pdays, previous have outliers\n",
    "Q1 = df['balance'].quantile(0.25)\n",
    "Q3 = df['balance'].quantile(0.75)\n",
    "IQR = Q3 - Q1\n",
    "lower_thresh = Q1 - 1.5*IQR\n",
    "upper_thresh = Q3 + 1.5*IQR\n",
    "Q1, Q3, lower_thresh, upper_thresh"
   ]
  },
  {
   "cell_type": "code",
   "execution_count": 23,
   "metadata": {},
   "outputs": [],
   "source": [
    "# remove outliers\n",
    "df = df[(df['balance'] > lower_thresh) & (df['balance'] < upper_thresh)]"
   ]
  },
  {
   "cell_type": "code",
   "execution_count": 24,
   "metadata": {},
   "outputs": [
    {
     "data": {
      "text/plain": [
       "<AxesSubplot: xlabel='balance'>"
      ]
     },
     "execution_count": 24,
     "metadata": {},
     "output_type": "execute_result"
    },
    {
     "data": {
      "image/png": "[encoded data removed]",
      "text/plain": [
       "<Figure size 640x480 with 1 Axes>"
      ]
     },
     "metadata": {},
     "output_type": "display_data"
    }
   ],
   "source": [
    "#check current distribution\n",
    "sns.set_style(\"darkgrid\",{'axes.grid' : True})\n",
    "sns.boxplot(x=df['balance'], orient='h')"
   ]
  },
  {
   "cell_type": "code",
   "execution_count": 25,
   "metadata": {},
   "outputs": [
    {
     "data": {
      "text/plain": [
       "(103.0, 316.0, -216.5, 635.5)"
      ]
     },
     "execution_count": 25,
     "metadata": {},
     "output_type": "execute_result"
    }
   ],
   "source": [
    "Q1 = df['duration'].quantile(0.25)\n",
    "Q3 = df['duration'].quantile(0.75)\n",
    "IQR = Q3 - Q1\n",
    "lower_thresh = Q1 - 1.5*IQR\n",
    "upper_thresh = Q3 + 1.5*IQR\n",
    "Q1, Q3, lower_thresh, upper_thresh"
   ]
  },
  {
   "cell_type": "code",
   "execution_count": 26,
   "metadata": {},
   "outputs": [],
   "source": [
    "df = df[(df['duration'] > lower_thresh) & (df['duration'] < upper_thresh)]"
   ]
  },
  {
   "cell_type": "code",
   "execution_count": 27,
   "metadata": {},
   "outputs": [
    {
     "data": {
      "text/plain": [
       "<AxesSubplot: xlabel='duration'>"
      ]
     },
     "execution_count": 27,
     "metadata": {},
     "output_type": "execute_result"
    },
    {
     "data": {
      "image/png": "[encoded data removed]",
      "text/plain": [
       "<Figure size 640x480 with 1 Axes>"
      ]
     },
     "metadata": {},
     "output_type": "display_data"
    }
   ],
   "source": [
    "sns.boxplot(x=df['duration'], orient='h')"
   ]
  },
  {
   "cell_type": "code",
   "execution_count": 28,
   "metadata": {},
   "outputs": [
    {
     "data": {
      "text/plain": [
       "(1.0, 3.0, -2.0, 6.0)"
      ]
     },
     "execution_count": 28,
     "metadata": {},
     "output_type": "execute_result"
    }
   ],
   "source": [
    "Q1 = df['campaign'].quantile(0.25)\n",
    "Q3 = df['campaign'].quantile(0.75)\n",
    "IQR = Q3 - Q1\n",
    "lower_thresh = Q1 - 1.5*IQR\n",
    "upper_thresh = Q3 + 1.5*IQR\n",
    "Q1, Q3, lower_thresh, upper_thresh"
   ]
  },
  {
   "cell_type": "code",
   "execution_count": 29,
   "metadata": {},
   "outputs": [],
   "source": [
    "df = df[(df['campaign'] > lower_thresh) & (df['campaign'] < upper_thresh)]"
   ]
  },
  {
   "cell_type": "code",
   "execution_count": 30,
   "metadata": {},
   "outputs": [
    {
     "data": {
      "text/plain": [
       "<AxesSubplot: xlabel='campaign'>"
      ]
     },
     "execution_count": 30,
     "metadata": {},
     "output_type": "execute_result"
    },
    {
     "data": {
      "image/png": "[encoded data removed]",
      "text/plain": [
       "<Figure size 640x480 with 1 Axes>"
      ]
     },
     "metadata": {},
     "output_type": "display_data"
    }
   ],
   "source": [
    "sns.boxplot(x=df['campaign'], orient='h')"
   ]
  },
  {
   "cell_type": "code",
   "execution_count": 31,
   "metadata": {},
   "outputs": [
    {
     "data": {
      "text/plain": [
       "(-1.0, -1.0, -1.0, -1.0)"
      ]
     },
     "execution_count": 31,
     "metadata": {},
     "output_type": "execute_result"
    }
   ],
   "source": [
    "Q1 = df['pdays'].quantile(0.25)\n",
    "Q3 = df['pdays'].quantile(0.75)\n",
    "IQR = Q3 - Q1\n",
    "lower_thresh = Q1 - 1.5*IQR\n",
    "upper_thresh = Q3 + 1.5*IQR\n",
    "Q1, Q3, lower_thresh, upper_thresh"
   ]
  },
  {
   "cell_type": "code",
   "execution_count": 32,
   "metadata": {},
   "outputs": [],
   "source": [
    "df = df[(df['pdays'] == -1.0)]"
   ]
  },
  {
   "cell_type": "code",
   "execution_count": 33,
   "metadata": {},
   "outputs": [
    {
     "data": {
      "text/plain": [
       "<AxesSubplot: xlabel='pdays'>"
      ]
     },
     "execution_count": 33,
     "metadata": {},
     "output_type": "execute_result"
    },
    {
     "data": {
      "image/png": "[encoded data removed]",
      "text/plain": [
       "<Figure size 640x480 with 1 Axes>"
      ]
     },
     "metadata": {},
     "output_type": "display_data"
    }
   ],
   "source": [
    "sns.boxplot(x=df['pdays'], orient='h')"
   ]
  },
  {
   "cell_type": "code",
   "execution_count": 34,
   "metadata": {},
   "outputs": [
    {
     "data": {
      "text/plain": [
       "(0.0, 0.0, 0.0, 0.0)"
      ]
     },
     "execution_count": 34,
     "metadata": {},
     "output_type": "execute_result"
    }
   ],
   "source": [
    "Q1 = df['previous'].quantile(0.25)\n",
    "Q3 = df['previous'].quantile(0.75)\n",
    "IQR = Q3 - Q1\n",
    "lower_thresh = Q1 - 1.5*IQR\n",
    "upper_thresh = Q3 + 1.5*IQR\n",
    "Q1, Q3, lower_thresh, upper_thresh"
   ]
  },
  {
   "cell_type": "code",
   "execution_count": 35,
   "metadata": {},
   "outputs": [
    {
     "data": {
      "text/plain": [
       "count    27405.0\n",
       "mean         0.0\n",
       "std          0.0\n",
       "min          0.0\n",
       "25%          0.0\n",
       "50%          0.0\n",
       "75%          0.0\n",
       "max          0.0\n",
       "Name: previous, dtype: float64"
      ]
     },
     "execution_count": 35,
     "metadata": {},
     "output_type": "execute_result"
    }
   ],
   "source": [
    "df['previous'].describe()"
   ]
  },
  {
   "cell_type": "code",
   "execution_count": 36,
   "metadata": {},
   "outputs": [
    {
     "data": {
      "text/plain": [
       "<AxesSubplot: xlabel='previous'>"
      ]
     },
     "execution_count": 36,
     "metadata": {},
     "output_type": "execute_result"
    },
    {
     "data": {
      "image/png": "[encoded data removed]",
      "text/plain": [
       "<Figure size 640x480 with 1 Axes>"
      ]
     },
     "metadata": {},
     "output_type": "display_data"
    }
   ],
   "source": [
    "sns.boxplot(x=df['previous'], orient='h')"
   ]
  },
  {
   "attachments": {},
   "cell_type": "markdown",
   "metadata": {},
   "source": [
    "- #### Encode Categorical Variables"
   ]
  },
  {
   "cell_type": "code",
   "execution_count": 37,
   "metadata": {},
   "outputs": [],
   "source": [
    "#encode categorical variables as 0 and 1 for features with 'yes' and 'no' values\n",
    "df['default'] = df['default'].map({'no':0, 'yes':1})\n",
    "df['housing'] = df['housing'].map({'no':0, 'yes':1})\n",
    "df['loan'] = df['loan'].map({'no':0, 'yes':1})\n",
    "\n",
    "# encode target variable as 0 and 1\n",
    "df['y'] = df['y'].map({'no':0, 'yes':1})"
   ]
  },
  {
   "cell_type": "code",
   "execution_count": 38,
   "metadata": {},
   "outputs": [],
   "source": [
    "# one hot encode categorical variables with more than 2 values\n",
    "cols = ['job', 'marital', 'contact', 'poutcome', 'month']\n",
    "df = pd.get_dummies(df, columns=cols, drop_first=True, dtype=int)"
   ]
  },
  {
   "cell_type": "code",
   "execution_count": 39,
   "metadata": {},
   "outputs": [],
   "source": [
    "# label encode education because it's ordinal data\n",
    "df['education'] = df['education'].map({'primary':0, 'secondary':1, 'tertiary':2})"
   ]
  },
  {
   "attachments": {},
   "cell_type": "markdown",
   "metadata": {},
   "source": [
    "- #### normalize numerical variables"
   ]
  },
  {
   "cell_type": "code",
   "execution_count": 40,
   "metadata": {},
   "outputs": [],
   "source": [
    "# separate x and y\n",
    "X = df.drop('y', axis = 1)\n",
    "y = df['y']"
   ]
  },
  {
   "cell_type": "code",
   "execution_count": 41,
   "metadata": {},
   "outputs": [],
   "source": [
    "# normalize numerical variables\n",
    "scaler = StandardScaler()\n",
    "X[numerical_col] = scaler.fit_transform(X[numerical_col])"
   ]
  },
  {
   "cell_type": "code",
   "execution_count": 42,
   "metadata": {},
   "outputs": [
    {
     "data": {
      "text/html": [
       "<div>\n",
       "<style scoped>\n",
       "    .dataframe tbody tr th:only-of-type {\n",
       "        vertical-align: middle;\n",
       "    }\n",
       "\n",
       "    .dataframe tbody tr th {\n",
       "        vertical-align: top;\n",
       "    }\n",
       "\n",
       "    .dataframe thead th {\n",
       "        text-align: right;\n",
       "    }\n",
       "</style>\n",
       "<table border=\"1\" class=\"dataframe\">\n",
       "  <thead>\n",
       "    <tr style=\"text-align: right;\">\n",
       "      <th></th>\n",
       "      <th>age</th>\n",
       "      <th>balance</th>\n",
       "      <th>duration</th>\n",
       "      <th>campaign</th>\n",
       "      <th>pdays</th>\n",
       "      <th>previous</th>\n",
       "    </tr>\n",
       "  </thead>\n",
       "  <tbody>\n",
       "    <tr>\n",
       "      <th>count</th>\n",
       "      <td>2.740500e+04</td>\n",
       "      <td>2.740500e+04</td>\n",
       "      <td>2.740500e+04</td>\n",
       "      <td>2.740500e+04</td>\n",
       "      <td>27405.0</td>\n",
       "      <td>27405.0</td>\n",
       "    </tr>\n",
       "    <tr>\n",
       "      <th>mean</th>\n",
       "      <td>6.844856e-17</td>\n",
       "      <td>-5.807757e-17</td>\n",
       "      <td>8.504215e-17</td>\n",
       "      <td>-4.148398e-17</td>\n",
       "      <td>0.0</td>\n",
       "      <td>0.0</td>\n",
       "    </tr>\n",
       "    <tr>\n",
       "      <th>std</th>\n",
       "      <td>1.000018e+00</td>\n",
       "      <td>1.000018e+00</td>\n",
       "      <td>1.000018e+00</td>\n",
       "      <td>1.000018e+00</td>\n",
       "      <td>0.0</td>\n",
       "      <td>0.0</td>\n",
       "    </tr>\n",
       "    <tr>\n",
       "      <th>min</th>\n",
       "      <td>-2.179237e+00</td>\n",
       "      <td>-3.060706e+00</td>\n",
       "      <td>-1.493749e+00</td>\n",
       "      <td>-9.112672e-01</td>\n",
       "      <td>0.0</td>\n",
       "      <td>0.0</td>\n",
       "    </tr>\n",
       "    <tr>\n",
       "      <th>25%</th>\n",
       "      <td>-8.303606e-01</td>\n",
       "      <td>-6.925320e-01</td>\n",
       "      <td>-7.537940e-01</td>\n",
       "      <td>-9.112672e-01</td>\n",
       "      <td>0.0</td>\n",
       "      <td>0.0</td>\n",
       "    </tr>\n",
       "    <tr>\n",
       "      <th>50%</th>\n",
       "      <td>-1.559222e-01</td>\n",
       "      <td>-3.499434e-01</td>\n",
       "      <td>-2.604903e-01</td>\n",
       "      <td>-4.967405e-02</td>\n",
       "      <td>0.0</td>\n",
       "      <td>0.0</td>\n",
       "    </tr>\n",
       "    <tr>\n",
       "      <th>75%</th>\n",
       "      <td>7.112128e-01</td>\n",
       "      <td>3.819504e-01</td>\n",
       "      <td>5.302465e-01</td>\n",
       "      <td>8.119191e-01</td>\n",
       "      <td>0.0</td>\n",
       "      <td>0.0</td>\n",
       "    </tr>\n",
       "    <tr>\n",
       "      <th>max</th>\n",
       "      <td>5.239585e+00</td>\n",
       "      <td>3.413740e+00</td>\n",
       "      <td>3.112836e+00</td>\n",
       "      <td>2.535105e+00</td>\n",
       "      <td>0.0</td>\n",
       "      <td>0.0</td>\n",
       "    </tr>\n",
       "  </tbody>\n",
       "</table>\n",
       "</div>"
      ],
      "text/plain": [
       "                age       balance      duration      campaign    pdays  \\\n",
       "count  2.740500e+04  2.740500e+04  2.740500e+04  2.740500e+04  27405.0   \n",
       "mean   6.844856e-17 -5.807757e-17  8.504215e-17 -4.148398e-17      0.0   \n",
       "std    1.000018e+00  1.000018e+00  1.000018e+00  1.000018e+00      0.0   \n",
       "min   -2.179237e+00 -3.060706e+00 -1.493749e+00 -9.112672e-01      0.0   \n",
       "25%   -8.303606e-01 -6.925320e-01 -7.537940e-01 -9.112672e-01      0.0   \n",
       "50%   -1.559222e-01 -3.499434e-01 -2.604903e-01 -4.967405e-02      0.0   \n",
       "75%    7.112128e-01  3.819504e-01  5.302465e-01  8.119191e-01      0.0   \n",
       "max    5.239585e+00  3.413740e+00  3.112836e+00  2.535105e+00      0.0   \n",
       "\n",
       "       previous  \n",
       "count   27405.0  \n",
       "mean        0.0  \n",
       "std         0.0  \n",
       "min         0.0  \n",
       "25%         0.0  \n",
       "50%         0.0  \n",
       "75%         0.0  \n",
       "max         0.0  "
      ]
     },
     "execution_count": 42,
     "metadata": {},
     "output_type": "execute_result"
    }
   ],
   "source": [
    "X[numerical_col].describe()"
   ]
  },
  {
   "cell_type": "code",
   "execution_count": 43,
   "metadata": {},
   "outputs": [
    {
     "data": {
      "text/plain": [
       "(27405, 36)"
      ]
     },
     "execution_count": 43,
     "metadata": {},
     "output_type": "execute_result"
    }
   ],
   "source": [
    "# final data shape\n",
    "X.shape"
   ]
  },
  {
   "cell_type": "code",
   "execution_count": 44,
   "metadata": {},
   "outputs": [],
   "source": [
    "#make all columns int\n",
    "X = X.astype(int)"
   ]
  },
  {
   "cell_type": "code",
   "execution_count": 45,
   "metadata": {},
   "outputs": [
    {
     "name": "stdout",
     "output_type": "stream",
     "text": [
      "(19183, 36) (8222, 36) (19183,) (8222,)\n"
     ]
    }
   ],
   "source": [
    "# split dataset into training and testing\n",
    "X_train, X_test, y_train, y_test = train_test_split(X, y, test_size=0.3, random_state=42)\n",
    "print(X_train.shape, X_test.shape, y_train.shape, y_test.shape)"
   ]
  },
  {
   "attachments": {},
   "cell_type": "markdown",
   "metadata": {},
   "source": [
    "#### Deal with Class Imbalance\n",
    "- The dataset consists of 88.3% class 0 and only 11.7% class 1. This imbalance will decrease the predictive power of ML model, especially on the minority class\n",
    "- we will use undersampling, oversampling and compare their performances to no resampling at all."
   ]
  },
  {
   "cell_type": "code",
   "execution_count": 46,
   "metadata": {},
   "outputs": [
    {
     "name": "stdout",
     "output_type": "stream",
     "text": [
      "(2266, 36) (2266,)\n"
     ]
    }
   ],
   "source": [
    "# generate dataset with undersampling\n",
    "rus = RandomUnderSampler(sampling_strategy='majority',random_state=42)\n",
    "X_train_us, y_train_us = rus.fit_resample(X_train, y_train)\n",
    "print(X_train_us.shape, y_train_us.shape)"
   ]
  },
  {
   "cell_type": "code",
   "execution_count": 47,
   "metadata": {},
   "outputs": [
    {
     "data": {
      "text/plain": [
       "0    1133\n",
       "1    1133\n",
       "Name: y, dtype: int64"
      ]
     },
     "execution_count": 47,
     "metadata": {},
     "output_type": "execute_result"
    }
   ],
   "source": [
    "y_train_us.value_counts()"
   ]
  },
  {
   "attachments": {},
   "cell_type": "markdown",
   "metadata": {},
   "source": [
    "We can see that datasize significantly decreased to keep proportion the same with minority class. Since the training dataset has much smaller size, I think undersampling method will not produce good model"
   ]
  },
  {
   "cell_type": "code",
   "execution_count": 48,
   "metadata": {},
   "outputs": [
    {
     "name": "stdout",
     "output_type": "stream",
     "text": [
      "(36100, 36) (36100,)\n"
     ]
    }
   ],
   "source": [
    "# generate dataset with oversampling\n",
    "ros = RandomOverSampler(sampling_strategy='minority',random_state=42)\n",
    "X_train_os, y_train_os = ros.fit_resample(X_train, y_train)\n",
    "print(X_train_os.shape, y_train_os.shape)\n"
   ]
  },
  {
   "cell_type": "code",
   "execution_count": 49,
   "metadata": {},
   "outputs": [
    {
     "data": {
      "text/plain": [
       "0    18050\n",
       "1    18050\n",
       "Name: y, dtype: int64"
      ]
     },
     "execution_count": 49,
     "metadata": {},
     "output_type": "execute_result"
    }
   ],
   "source": [
    "y_train_os.value_counts()"
   ]
  },
  {
   "attachments": {},
   "cell_type": "markdown",
   "metadata": {},
   "source": [
    "we can see that the dataset is much larger than the original dataset because oversampling takes minority class sample and duplicates them to make the dataset balanced"
   ]
  },
  {
   "attachments": {},
   "cell_type": "markdown",
   "metadata": {},
   "source": [
    "#### Modeling\n",
    "1. Logistic Regression\n",
    "2. Random Forest\n",
    "3. LightGBM\n",
    "- For each model, I used GridSearchCV to tune hyperparameters and return the best parameter settings and 5-fold cross validate\n",
    "I chose to use three scoring: \n",
    "- Accuracy measures the percentage of correct predictions, which could be misleading when datase is imbalanced\n",
    "- F1 score takes into account both precision and recall, thus is useful for imbalanced dataset\n",
    "- ROC-AUC measures if model can distinguish between positive and negative samples. It plots the true positive rate (TPR) against the false positive rate (FPR) at various classification thresholds; Thus can also capture class imbalance problem"
   ]
  },
  {
   "attachments": {},
   "cell_type": "markdown",
   "metadata": {},
   "source": [
    "#### Logistic regression"
   ]
  },
  {
   "cell_type": "code",
   "execution_count": 50,
   "metadata": {},
   "outputs": [],
   "source": [
    "# train logistic regression model with grid search\n",
    "def train_logistic(X_train, y_train):\n",
    "    \"\"\"\n",
    "    Train a logistic regression model with grid search\n",
    "    Input:\n",
    "        X_train: training data\n",
    "        y_train: training labels\n",
    "    Output:\n",
    "        grid: trained grid search model\n",
    "    \"\"\"\n",
    "    lr = LogisticRegression(random_state=42)\n",
    "    param_grid = {'C': [0.001, 0.01, 0.1, 1, 10, 100, 1000], 'penalty': ['l1', 'l2'], 'solver' : ['liblinear']}\n",
    "    grid = GridSearchCV(lr, param_grid, cv=5, scoring= ['accuracy','f1', 'roc_auc'], refit='f1')\n",
    "    grid.fit(X_train, y_train)\n",
    "    \n",
    "    return grid"
   ]
  },
  {
   "attachments": {},
   "cell_type": "markdown",
   "metadata": {},
   "source": [
    "- I chose to use different 'C' values because it is the inverse of regularization strength, which tells model how much to avoid overfitting. A small value of 'C' will force the model to choose simpler coefficients, which may lead to underfitting, while a large value of 'C' will allow the model to choose more complex coefficients, which may lead to overfitting. \n",
    "- I also asks the gridsearch to find out which penaity performs better. L1 penalty penalizes the absolute value of the coefficients which also performs feature selection; l2 penalty penalizes the square of the coefficients, which aims to penalize large weights. \n",
    "- I chose liblinear solver because it deals with both l1 and l2 penality and converged successfully while saga didn't\n"
   ]
  },
  {
   "cell_type": "code",
   "execution_count": 51,
   "metadata": {},
   "outputs": [
    {
     "name": "stdout",
     "output_type": "stream",
     "text": [
      "{'C': 10, 'penalty': 'l1', 'solver': 'liblinear'}\n",
      "0.24796214811578415\n"
     ]
    }
   ],
   "source": [
    "# train logistic regression model with original dataset\n",
    "grid_original = train_logistic(X_train, y_train)\n",
    "print(grid_original.best_params_)\n",
    "print(grid_original.best_score_)"
   ]
  },
  {
   "cell_type": "code",
   "execution_count": 52,
   "metadata": {},
   "outputs": [
    {
     "data": {
      "text/plain": [
       "array([0.9409373 , 0.94088517, 0.94088521, 0.94078099, 0.94114602,\n",
       "       0.94078114, 0.94177159, 0.94182373, 0.94203223, 0.94208437,\n",
       "       0.94192797, 0.94198011, 0.94192797, 0.94192797])"
      ]
     },
     "execution_count": 52,
     "metadata": {},
     "output_type": "execute_result"
    }
   ],
   "source": [
    "grid_original.cv_results_['mean_test_accuracy']"
   ]
  },
  {
   "cell_type": "code",
   "execution_count": 53,
   "metadata": {},
   "outputs": [
    {
     "data": {
      "text/plain": [
       "array([0.        , 0.        , 0.01903308, 0.06558532, 0.17622043,\n",
       "       0.16457213, 0.24004011, 0.23801201, 0.24796215, 0.24717729,\n",
       "       0.2476028 , 0.24779821, 0.2476028 , 0.2476028 ])"
      ]
     },
     "execution_count": 53,
     "metadata": {},
     "output_type": "execute_result"
    }
   ],
   "source": [
    "grid_original.cv_results_['mean_test_f1']"
   ]
  },
  {
   "cell_type": "code",
   "execution_count": 54,
   "metadata": {},
   "outputs": [
    {
     "name": "stdout",
     "output_type": "stream",
     "text": [
      "0.9407686694234979\n",
      "              precision    recall  f1-score   support\n",
      "\n",
      "           0       0.95      0.99      0.97      7724\n",
      "           1       0.54      0.15      0.24       498\n",
      "\n",
      "    accuracy                           0.94      8222\n",
      "   macro avg       0.74      0.57      0.60      8222\n",
      "weighted avg       0.92      0.94      0.92      8222\n",
      "\n"
     ]
    }
   ],
   "source": [
    "# check model performance on test set\n",
    "logreg_pred = grid_original.best_estimator_.predict(X_test)\n",
    "print(accuracy_score(y_test, logreg_pred))\n",
    "print(classification_report(y_test, logreg_pred))"
   ]
  },
  {
   "attachments": {},
   "cell_type": "markdown",
   "metadata": {},
   "source": [
    "- The best parameters for original dataset are {'C': 10, 'penalty': 'l1', 'solver': 'liblinear'}, but the score is only 0.24\n",
    "- comparing test accuracy and test f1 from the gridsearch, we can see that the model performs well when not considering precision and recall, which tends to be low when class is imbalanced; this is similar when testing on test dataset\n"
   ]
  },
  {
   "cell_type": "code",
   "execution_count": 55,
   "metadata": {},
   "outputs": [
    {
     "name": "stdout",
     "output_type": "stream",
     "text": [
      "{'C': 10, 'penalty': 'l2', 'solver': 'liblinear'}\n",
      "0.8234416632072203\n",
      "[0.5        0.74934796 0.66858827 0.79744532 0.81156266 0.82127374\n",
      " 0.82568875 0.82436522 0.82568875 0.82612928 0.82524822 0.82524822\n",
      " 0.82524822 0.82524822]\n",
      "[0.         0.73067643 0.58575172 0.79894734 0.81139282 0.82072804\n",
      " 0.8222964  0.8214579  0.82303769 0.82344166 0.82249513 0.82249513\n",
      " 0.82249513 0.82249513]\n"
     ]
    }
   ],
   "source": [
    "# train logistic regression model with undersampled dataset\n",
    "grid_us = train_logistic(X_train_us, y_train_us)\n",
    "print(grid_us.best_params_)\n",
    "print(grid_us.best_score_)\n",
    "print(grid_us.cv_results_['mean_test_accuracy'])\n",
    "print(grid_us.cv_results_['mean_test_f1'])"
   ]
  },
  {
   "cell_type": "code",
   "execution_count": 56,
   "metadata": {},
   "outputs": [
    {
     "name": "stdout",
     "output_type": "stream",
     "text": [
      "0.8119678910240817\n",
      "              precision    recall  f1-score   support\n",
      "\n",
      "           0       0.98      0.81      0.89      7724\n",
      "           1       0.22      0.80      0.34       498\n",
      "\n",
      "    accuracy                           0.81      8222\n",
      "   macro avg       0.60      0.81      0.61      8222\n",
      "weighted avg       0.94      0.81      0.86      8222\n",
      "\n"
     ]
    }
   ],
   "source": [
    "# check model performance on test set\n",
    "logreg_pred = grid_us.best_estimator_.predict(X_test)\n",
    "print(accuracy_score(y_test, logreg_pred))\n",
    "print(classification_report(y_test, logreg_pred))"
   ]
  },
  {
   "attachments": {},
   "cell_type": "markdown",
   "metadata": {},
   "source": [
    "- the best parameters are c=0.001, penalty=l2, solver=liblinear, the model scored much higher, especially on f1, which means solving class imbalance problem increased recall\n",
    "- However, the f1 score on class 1 is still low; and accuracy dropped on testing dataset compared to model trained on original dataset; these might be due to small sample size with under-samping\n"
   ]
  },
  {
   "cell_type": "code",
   "execution_count": 57,
   "metadata": {},
   "outputs": [
    {
     "name": "stdout",
     "output_type": "stream",
     "text": [
      "{'C': 1, 'penalty': 'l2', 'solver': 'liblinear'}\n",
      "0.8209248419858145\n",
      "[0.73800554 0.80102493 0.81470914 0.81770083 0.82069252 0.82196676\n",
      " 0.82235457 0.82235457 0.82224377 0.82224377 0.82235457 0.82235457\n",
      " 0.82232687 0.82235457]\n",
      "[0.72755551 0.8026762  0.81348476 0.81698682 0.81890308 0.82043036\n",
      " 0.82089459 0.82092484 0.82078441 0.82078441 0.82091759 0.82091759\n",
      " 0.82089467 0.82091759]\n"
     ]
    }
   ],
   "source": [
    "# train logistic regression model with oversampled dataset\n",
    "grid_os = train_logistic(X_train_os, y_train_os)\n",
    "print(grid_os.best_params_)\n",
    "print(grid_os.best_score_)\n",
    "print(grid_os.cv_results_['mean_test_accuracy'])\n",
    "print(grid_os.cv_results_['mean_test_f1'])"
   ]
  },
  {
   "cell_type": "code",
   "execution_count": 58,
   "metadata": {},
   "outputs": [
    {
     "name": "stdout",
     "output_type": "stream",
     "text": [
      "0.8220627584529312\n",
      "              precision    recall  f1-score   support\n",
      "\n",
      "           0       0.98      0.82      0.90      7724\n",
      "           1       0.22      0.79      0.35       498\n",
      "\n",
      "    accuracy                           0.82      8222\n",
      "   macro avg       0.60      0.81      0.62      8222\n",
      "weighted avg       0.94      0.82      0.86      8222\n",
      "\n"
     ]
    }
   ],
   "source": [
    "# check model performance on test set\n",
    "logreg_pred = grid_os.best_estimator_.predict(X_test)\n",
    "print(accuracy_score(y_test, logreg_pred))\n",
    "print(classification_report(y_test, logreg_pred))"
   ]
  },
  {
   "attachments": {},
   "cell_type": "markdown",
   "metadata": {},
   "source": [
    "- the best parameters are C=0.1, penalty=l2, solver=liblinear, compared to undersampled models, the f1 score is slightly higher both in class 0 and class 1; compared to the original model, f1 for class 0 is lowered but class 1 is higher\n",
    "- even though the dataset is balanced, f1 is still low on class 1, which might suggest feature selection problem"
   ]
  },
  {
   "attachments": {},
   "cell_type": "markdown",
   "metadata": {},
   "source": [
    "#### Random Forest"
   ]
  },
  {
   "cell_type": "code",
   "execution_count": 84,
   "metadata": {},
   "outputs": [],
   "source": [
    "# train randome forest model with grid search\n",
    "def train_rf(X_train, y_train):\n",
    "    \"\"\"\n",
    "    Train a svm model with grid search\n",
    "    Input:\n",
    "        X_train: training data\n",
    "        y_train: training labels\n",
    "    Output:\n",
    "        grid: trained grid search model\n",
    "    \"\"\"\n",
    "    rf = RandomForestClassifier(random_state=42)\n",
    "    param_grid = {'n_estimators': [100, 300, 500], 'max_features' : ['sqrt', 'log2'],\n",
    "                  'max_depth': [10, 20, 30, 50]}\n",
    "    grid = GridSearchCV(rf, param_grid, cv=5, scoring= ['accuracy','f1', 'roc_auc'], refit='f1')\n",
    "    grid.fit(X_train, y_train)\n",
    "    \n",
    "    return grid"
   ]
  },
  {
   "cell_type": "code",
   "execution_count": 86,
   "metadata": {},
   "outputs": [
    {
     "name": "stdout",
     "output_type": "stream",
     "text": [
      "{'max_depth': 30, 'max_features': 'sqrt', 'n_estimators': 100}\n",
      "0.26554916704776177\n",
      "[0.94187563 0.94177138 0.94187565 0.94171927 0.94182349 0.94166709\n",
      " 0.94020757 0.94093739 0.94072886 0.94062468 0.94104169 0.94093741\n",
      " 0.93885221 0.93869587 0.93895651 0.9388001  0.93848735 0.93880011\n",
      " 0.93817463 0.93807032 0.93853947 0.93864379 0.9390608  0.93869585]\n",
      "[0.0911971  0.08499573 0.08664529 0.07714201 0.06958205 0.06492966\n",
      " 0.22145749 0.22773877 0.21946838 0.21043542 0.21139597 0.21006454\n",
      " 0.26554917 0.25743752 0.26389813 0.25756436 0.24442336 0.24899704\n",
      " 0.26250862 0.25755908 0.26454992 0.25171954 0.25947482 0.25079451]\n"
     ]
    }
   ],
   "source": [
    "# train rf model with original dataset\n",
    "grid_original_rf = train_rf(X_train, y_train)\n",
    "print(grid_original_rf.best_params_)\n",
    "print(grid_original_rf.best_score_)\n",
    "print(grid_original_rf.cv_results_['mean_test_accuracy'])\n",
    "print(grid_original_rf.cv_results_['mean_test_f1'])"
   ]
  },
  {
   "cell_type": "code",
   "execution_count": 88,
   "metadata": {},
   "outputs": [
    {
     "name": "stdout",
     "output_type": "stream",
     "text": [
      "0.9387010459742156\n",
      "0.2631578947368421\n",
      "              precision    recall  f1-score   support\n",
      "\n",
      "           0       0.95      0.99      0.97      7724\n",
      "           1       0.48      0.18      0.26       498\n",
      "\n",
      "    accuracy                           0.94      8222\n",
      "   macro avg       0.72      0.58      0.62      8222\n",
      "weighted avg       0.92      0.94      0.93      8222\n",
      "\n"
     ]
    }
   ],
   "source": [
    "# check model performance on test set\n",
    "rf_pred = grid_original_rf.best_estimator_.predict(X_test)\n",
    "print(accuracy_score(y_test, rf_pred))\n",
    "print(f1_score(y_test, rf_pred))\n",
    "print(classification_report(y_test, rf_pred))"
   ]
  },
  {
   "attachments": {},
   "cell_type": "markdown",
   "metadata": {},
   "source": [
    "- The best parameters for this RF are 'max_depth': 30, 'max_features': 'sqrt', 'n_estimators': 100, which suggest a medium level of complexity\n",
    "- Similarily to logistic regression, the model has high accuracy score but low F1 score both on training and testing data; This suggest class imbalance, which can be seen from the low f1 score on class 1\n",
    "- There are no large differences between train score and test score, which means the model didn't overfit"
   ]
  },
  {
   "cell_type": "code",
   "execution_count": 89,
   "metadata": {},
   "outputs": [
    {
     "name": "stdout",
     "output_type": "stream",
     "text": [
      "{'max_depth': 20, 'max_features': 'sqrt', 'n_estimators': 500}\n",
      "0.8442375849902943\n",
      "[0.83715611 0.83582966 0.83803522 0.83274013 0.83273818 0.83229765\n",
      " 0.83980025 0.84023884 0.84112476 0.83715903 0.83759469 0.83847867\n",
      " 0.8380362  0.83715417 0.83759567 0.8336241  0.83450613 0.83582869\n",
      " 0.83582966 0.83847672 0.83803717 0.8345071  0.83582869 0.83494374]\n",
      "[0.84208642 0.84106443 0.84330337 0.83714419 0.83779258 0.83730987\n",
      " 0.84354345 0.84344712 0.84423758 0.84115634 0.84103133 0.841456\n",
      " 0.84129432 0.84025693 0.84090244 0.83657174 0.83709423 0.83876145\n",
      " 0.83849784 0.84193611 0.84154475 0.83711348 0.83862674 0.83821217]\n"
     ]
    }
   ],
   "source": [
    "# train rf model with undersampled dataset\n",
    "grid_us_rf = train_rf(X_train_us, y_train_us)\n",
    "print(grid_us_rf.best_params_)\n",
    "print(grid_us_rf.best_score_)\n",
    "print(grid_us_rf.cv_results_['mean_test_accuracy'])\n",
    "print(grid_us_rf.cv_results_['mean_test_f1'])"
   ]
  },
  {
   "cell_type": "code",
   "execution_count": 90,
   "metadata": {},
   "outputs": [
    {
     "name": "stdout",
     "output_type": "stream",
     "text": [
      "0.8170761371928971\n",
      "0.36486486486486486\n",
      "              precision    recall  f1-score   support\n",
      "\n",
      "           0       0.99      0.81      0.89      7724\n",
      "           1       0.23      0.87      0.36       498\n",
      "\n",
      "    accuracy                           0.82      8222\n",
      "   macro avg       0.61      0.84      0.63      8222\n",
      "weighted avg       0.94      0.82      0.86      8222\n",
      "\n"
     ]
    }
   ],
   "source": [
    "# check model performance on test set\n",
    "rf_pred = grid_us_rf.best_estimator_.predict(X_test)\n",
    "print(accuracy_score(y_test, rf_pred))\n",
    "print(f1_score(y_test, rf_pred))\n",
    "print(classification_report(y_test, rf_pred))\n"
   ]
  },
  {
   "attachments": {},
   "cell_type": "markdown",
   "metadata": {},
   "source": [
    "- the best parameters {'max_depth': 20, 'max_features': 'sqrt', 'n_estimators': 500}, which includes shallower tree but more trees in the forest compared to RF model on original dataset\n",
    "- The train scores improved significantly, both accuracy and f1 performed above 0.80\n",
    "- However, the test F1 is very low, only 0.36 while accuracy remains high (above 0.80), which suggests overfitting issue; I will see if this issue is resolved using the larger dataset by oversampling"
   ]
  },
  {
   "cell_type": "code",
   "execution_count": 91,
   "metadata": {},
   "outputs": [
    {
     "name": "stdout",
     "output_type": "stream",
     "text": [
      "{'max_depth': 50, 'max_features': 'log2', 'n_estimators': 100}\n",
      "0.9818248002495794\n",
      "[0.86839335 0.87130194 0.87027701 0.87121884 0.86900277 0.86961219\n",
      " 0.96487535 0.96606648 0.96603878 0.9633241  0.96407202 0.96393352\n",
      " 0.98024931 0.98030471 0.98041551 0.98055402 0.98024931 0.98058172\n",
      " 0.98069252 0.98085873 0.98074792 0.98149584 0.98127424 0.98141274]\n",
      "[0.87340013 0.8765147  0.87546762 0.87621549 0.87407917 0.87470013\n",
      " 0.96568185 0.96687765 0.96685043 0.96410795 0.96488528 0.96474445\n",
      " 0.98062301 0.98067679 0.98078362 0.98091701 0.98062387 0.98094341\n",
      " 0.98104993 0.98120959 0.98110304 0.9818248  0.98161102 0.98174421]\n"
     ]
    }
   ],
   "source": [
    "# train rf model with oversampled dataset\n",
    "grid_os_rf = train_rf(X_train_os, y_train_os)\n",
    "print(grid_os_rf.best_params_)\n",
    "print(grid_os_rf.best_score_)\n",
    "print(grid_os_rf.cv_results_['mean_test_accuracy'])\n",
    "print(grid_os_rf.cv_results_['mean_test_f1'])"
   ]
  },
  {
   "cell_type": "code",
   "execution_count": 92,
   "metadata": {},
   "outputs": [
    {
     "name": "stdout",
     "output_type": "stream",
     "text": [
      "0.9294575529068353\n",
      "0.35698447893569846\n",
      "              precision    recall  f1-score   support\n",
      "\n",
      "           0       0.96      0.97      0.96      7724\n",
      "           1       0.40      0.32      0.36       498\n",
      "\n",
      "    accuracy                           0.93      8222\n",
      "   macro avg       0.68      0.65      0.66      8222\n",
      "weighted avg       0.92      0.93      0.93      8222\n",
      "\n"
     ]
    }
   ],
   "source": [
    "# check model performance on test set\n",
    "rf_pred = grid_os_rf.best_estimator_.predict(X_test)\n",
    "print(accuracy_score(y_test, rf_pred))\n",
    "print(f1_score(y_test, rf_pred))\n",
    "print(classification_report(y_test, rf_pred))"
   ]
  },
  {
   "cell_type": "code",
   "execution_count": 93,
   "metadata": {},
   "outputs": [
    {
     "data": {
      "text/plain": [
       "duration             0.178421\n",
       "day                  0.171306\n",
       "contact_unknown      0.080383\n",
       "age                  0.064875\n",
       "housing              0.055055\n",
       "balance              0.036974\n",
       "education            0.035792\n",
       "month_jul            0.029286\n",
       "month_may            0.027409\n",
       "month_aug            0.027013\n",
       "loan                 0.020942\n",
       "campaign             0.020825\n",
       "month_mar            0.020781\n",
       "marital_married      0.019226\n",
       "month_jun            0.016768\n",
       "month_oct            0.016640\n",
       "month_nov            0.016361\n",
       "job_technician       0.016317\n",
       "job_management       0.015454\n",
       "job_blue-collar      0.015281\n",
       "marital_single       0.015192\n",
       "month_feb            0.013087\n",
       "contact_telephone    0.012164\n",
       "month_jan            0.010392\n",
       "job_student          0.009874\n",
       "job_services         0.009818\n",
       "job_retired          0.008322\n",
       "month_sep            0.007260\n",
       "job_self-employed    0.006131\n",
       "job_entrepreneur     0.006018\n",
       "job_unemployed       0.005641\n",
       "job_housemaid        0.004291\n",
       "default              0.003632\n",
       "month_dec            0.003067\n",
       "previous             0.000000\n",
       "pdays                0.000000\n",
       "dtype: float64"
      ]
     },
     "execution_count": 93,
     "metadata": {},
     "output_type": "execute_result"
    }
   ],
   "source": [
    "# find feature importance\n",
    "feature_importance = pd.Series(grid_os_rf.best_estimator_.feature_importances_, index=X_train.columns).sort_values(ascending=False)\n",
    "feature_importance"
   ]
  },
  {
   "attachments": {},
   "cell_type": "markdown",
   "metadata": {},
   "source": [
    "- the best parameters are {'max_depth': 50, 'max_features': 'log2', 'n_estimators': 100}, which used fewer but deeper trees than previous model\n",
    "- the training performance is also improved, with the mean CV score of 0.98 and high score for both accuracy and F1\n",
    "- The testing performance only improved accuracy, but F1 remains low, which means the model still can't predict the positive class very well"
   ]
  },
  {
   "attachments": {},
   "cell_type": "markdown",
   "metadata": {},
   "source": [
    "#### XGBoost\n",
    "- I chose to use XGBoost because it's based on gradient boosting and uses regularization boosting to control overfitting. Thus, I want to see if it can solve the low testing performance problem"
   ]
  },
  {
   "cell_type": "code",
   "execution_count": 94,
   "metadata": {},
   "outputs": [],
   "source": [
    "# train xgboot model with grid search\n",
    "def train_xgb(X_train, y_train):\n",
    "    \"\"\"\n",
    "    Train a xgboost model with grid search\n",
    "    Input:\n",
    "        X_train: training data\n",
    "        y_train: training labels\n",
    "    Output:\n",
    "        grid: trained grid search model\n",
    "    \"\"\"\n",
    "    xgb = XGBClassifier(random_state=42)\n",
    "    param_grid = {'n_estimators': [100, 300, 500], 'gamma': [0, 1, 3, 5], 'max_depth': [10, 20, 30, 50]}\n",
    "    grid = GridSearchCV(xgb, param_grid, cv=5, scoring= ['accuracy','f1', 'roc_auc'], refit='f1')\n",
    "    grid.fit(X_train, y_train)\n",
    "    \n",
    "    return grid"
   ]
  },
  {
   "cell_type": "code",
   "execution_count": 95,
   "metadata": {},
   "outputs": [
    {
     "name": "stdout",
     "output_type": "stream",
     "text": [
      "{'gamma': 1, 'max_depth': 20, 'n_estimators': 100}\n",
      "0.3652112730837671\n",
      "[0.93827868 0.9350468  0.93363932 0.93629786 0.93593319 0.93535976\n",
      " 0.93562017 0.9358287  0.93515109 0.93562019 0.93629776 0.93551587\n",
      " 0.93932115 0.93932115 0.93932115 0.93911285 0.93911285 0.93911285\n",
      " 0.93775759 0.93775759 0.93775759 0.93859157 0.93859157 0.93859157\n",
      " 0.94109376 0.94109376 0.94109376 0.94145853 0.94145853 0.94145853\n",
      " 0.94104154 0.94104154 0.94104154 0.94104154 0.94104154 0.94104154\n",
      " 0.94197987 0.94197987 0.94197987 0.94255324 0.94255324 0.94255324\n",
      " 0.94281399 0.94281399 0.94281399 0.94281399 0.94281399 0.94281399]\n",
      "[0.36229559 0.35454876 0.35240925 0.34569633 0.35589877 0.3563205\n",
      " 0.34413519 0.35513824 0.35206253 0.34039156 0.35621558 0.34910183\n",
      " 0.35668622 0.35668622 0.35668622 0.36521127 0.36521127 0.36521127\n",
      " 0.3484547  0.3484547  0.3484547  0.35293887 0.35293887 0.35293887\n",
      " 0.32670874 0.32670874 0.32670874 0.35055293 0.35055293 0.35055293\n",
      " 0.3573664  0.3573664  0.3573664  0.3573664  0.3573664  0.3573664\n",
      " 0.26979519 0.26979519 0.26979519 0.31733342 0.31733342 0.31733342\n",
      " 0.31781608 0.31781608 0.31781608 0.31781608 0.31781608 0.31781608]\n"
     ]
    }
   ],
   "source": [
    "# train xgboost model with original dataset\n",
    "grid_original_xgb = train_xgb(X_train, y_train)\n",
    "print(grid_original_xgb.best_params_)\n",
    "print(grid_original_xgb.best_score_)\n",
    "print(grid_original_xgb.cv_results_['mean_test_accuracy'])\n",
    "print(grid_original_xgb.cv_results_['mean_test_f1'])"
   ]
  },
  {
   "cell_type": "code",
   "execution_count": 96,
   "metadata": {},
   "outputs": [
    {
     "name": "stdout",
     "output_type": "stream",
     "text": [
      "0.9384577961566529\n",
      "0.3737623762376238\n",
      "              precision    recall  f1-score   support\n",
      "\n",
      "           0       0.96      0.98      0.97      7724\n",
      "           1       0.49      0.30      0.37       498\n",
      "\n",
      "    accuracy                           0.94      8222\n",
      "   macro avg       0.72      0.64      0.67      8222\n",
      "weighted avg       0.93      0.94      0.93      8222\n",
      "\n"
     ]
    }
   ],
   "source": [
    "# check model performance on test set\n",
    "xgb_pred = grid_original_xgb.best_estimator_.predict(X_test)\n",
    "print(accuracy_score(y_test, xgb_pred))\n",
    "print(f1_score(y_test, xgb_pred))\n",
    "print(classification_report(y_test, xgb_pred))"
   ]
  },
  {
   "attachments": {},
   "cell_type": "markdown",
   "metadata": {},
   "source": [
    "- the best parameters are {'gamma': 1, 'max_depth': 20, 'n_estimators': 100}, gamma of 1 means the model used small regularization strength. The max_depth of 20 suggests shallower trees in the forest\n",
    "- As before, the model trained on original dataset didn't perform well on F1 score even for training dataset. The performance on testing dataset is similar, with high accuracy and low F1"
   ]
  },
  {
   "cell_type": "code",
   "execution_count": 97,
   "metadata": {},
   "outputs": [
    {
     "name": "stdout",
     "output_type": "stream",
     "text": [
      "{'gamma': 3, 'max_depth': 10, 'n_estimators': 100}\n",
      "0.8616121703920031\n",
      "[0.83230641 0.82833095 0.8292159  0.83583355 0.82523947 0.82259533\n",
      " 0.83406755 0.8292159  0.82656786 0.83406755 0.8292159  0.82656786\n",
      " 0.84466163 0.84466163 0.84466163 0.84112962 0.84112962 0.84112962\n",
      " 0.84466066 0.84466066 0.84466066 0.84466066 0.84466066 0.84466066\n",
      " 0.85834622 0.85834622 0.85834622 0.85569332 0.85569332 0.85569332\n",
      " 0.85701783 0.85701783 0.85701783 0.85701783 0.85701783 0.85701783\n",
      " 0.84377863 0.84377863 0.84377863 0.85171787 0.85171787 0.85171787\n",
      " 0.85171787 0.85171787 0.85171787 0.85171787 0.85171787 0.85171787]\n",
      "[0.83373064 0.82831282 0.82916597 0.83784665 0.82648986 0.82342486\n",
      " 0.83551966 0.83044979 0.82730999 0.83551966 0.83044979 0.82730999\n",
      " 0.84732492 0.84732492 0.84732492 0.84304096 0.84304096 0.84304096\n",
      " 0.84786821 0.84786821 0.84786821 0.84786821 0.84786821 0.84786821\n",
      " 0.86161217 0.86161217 0.86161217 0.85789158 0.85789158 0.85789158\n",
      " 0.85911525 0.85911525 0.85911525 0.85911525 0.85911525 0.85911525\n",
      " 0.84803955 0.84803955 0.84803955 0.8559294  0.8559294  0.8559294\n",
      " 0.8559294  0.8559294  0.8559294  0.8559294  0.8559294  0.8559294 ]\n"
     ]
    }
   ],
   "source": [
    "# train xgboost model with undersampled dataset\n",
    "grid_us_xgb = train_xgb(X_train_us, y_train_us)\n",
    "print(grid_us_xgb.best_params_)\n",
    "print(grid_us_xgb.best_score_)\n",
    "print(grid_us_xgb.cv_results_['mean_test_accuracy'])\n",
    "print(grid_us_xgb.cv_results_['mean_test_f1'])"
   ]
  },
  {
   "cell_type": "code",
   "execution_count": 98,
   "metadata": {},
   "outputs": [
    {
     "name": "stdout",
     "output_type": "stream",
     "text": [
      "0.8264412551690586\n",
      "0.37983485441112563\n",
      "              precision    recall  f1-score   support\n",
      "\n",
      "           0       0.99      0.82      0.90      7724\n",
      "           1       0.24      0.88      0.38       498\n",
      "\n",
      "    accuracy                           0.83      8222\n",
      "   macro avg       0.62      0.85      0.64      8222\n",
      "weighted avg       0.95      0.83      0.87      8222\n",
      "\n"
     ]
    }
   ],
   "source": [
    "# check model performance on test set\n",
    "xgb_pred = grid_us_xgb.best_estimator_.predict(X_test)\n",
    "print(accuracy_score(y_test, xgb_pred))\n",
    "print(f1_score(y_test, xgb_pred))\n",
    "print(classification_report(y_test, xgb_pred))"
   ]
  },
  {
   "attachments": {},
   "cell_type": "markdown",
   "metadata": {},
   "source": [
    "- The best parameters are 'gamma': 3, 'max_depth': 10, 'n_estimators': 100; gamma is used to control min. loss reduction needed to further split on a leaf node, which regularizes the complexity of tree; this gamma value suggest a intermediate control; the best max_depth is 10 which suggest the optimal trees are shallower trees\n",
    "- Overall, the model did great on both scoring metrics during the gridsearch training process; but the performance of f1 score on positive class is still low when testing on test dataset.\n",
    "- Accuracy is high in both cases, suggesting the model performend good despite unable to fully predict positive class"
   ]
  },
  {
   "cell_type": "code",
   "execution_count": 99,
   "metadata": {},
   "outputs": [
    {
     "name": "stdout",
     "output_type": "stream",
     "text": [
      "{'gamma': 0, 'max_depth': 50, 'n_estimators': 500}\n",
      "0.9771983205343681\n",
      "[0.97052632 0.97440443 0.97523546 0.97468144 0.97626039 0.9766205\n",
      " 0.97498615 0.97628809 0.97617729 0.97570637 0.9765097  0.9766759\n",
      " 0.96903047 0.96980609 0.96980609 0.97163435 0.97163435 0.97163435\n",
      " 0.97216066 0.97216066 0.97216066 0.97216066 0.97216066 0.97216066\n",
      " 0.96216066 0.96216066 0.96216066 0.96797784 0.96797784 0.96797784\n",
      " 0.96772853 0.96772853 0.96772853 0.96764543 0.96764543 0.96764543\n",
      " 0.95429363 0.95429363 0.95429363 0.96282548 0.96282548 0.96282548\n",
      " 0.96440443 0.96440443 0.96440443 0.9634072  0.9634072  0.9634072 ]\n",
      "[0.97134949 0.97503267 0.97582365 0.9752973  0.9768018  0.97714498\n",
      " 0.97558882 0.97682863 0.97672201 0.9762728  0.97703957 0.97719832\n",
      " 0.96993108 0.97066813 0.97066813 0.97240647 0.97240647 0.97240647\n",
      " 0.97290288 0.97290288 0.97290288 0.97290338 0.97290338 0.97290338\n",
      " 0.96346676 0.96346676 0.96346676 0.96895133 0.96895133 0.96895133\n",
      " 0.96872467 0.96872467 0.96872467 0.96863721 0.96863721 0.96863721\n",
      " 0.95595949 0.95595949 0.95595949 0.96409886 0.96409886 0.96409886\n",
      " 0.96557602 0.96557602 0.96557602 0.96463756 0.96463756 0.96463756]\n"
     ]
    }
   ],
   "source": [
    "# train xgboost model with oversampled dataset\n",
    "grid_os_xgb = train_xgb(X_train_os, y_train_os)\n",
    "print(grid_os_xgb.best_params_)\n",
    "print(grid_os_xgb.best_score_)\n",
    "print(grid_os_xgb.cv_results_['mean_test_accuracy'])\n",
    "print(grid_os_xgb.cv_results_['mean_test_f1'])"
   ]
  },
  {
   "cell_type": "code",
   "execution_count": 100,
   "metadata": {},
   "outputs": [
    {
     "name": "stdout",
     "output_type": "stream",
     "text": [
      "0.9306738019946486\n",
      "0.42655935613682094\n",
      "              precision    recall  f1-score   support\n",
      "\n",
      "           0       0.96      0.96      0.96      7724\n",
      "           1       0.43      0.43      0.43       498\n",
      "\n",
      "    accuracy                           0.93      8222\n",
      "   macro avg       0.70      0.69      0.69      8222\n",
      "weighted avg       0.93      0.93      0.93      8222\n",
      "\n"
     ]
    }
   ],
   "source": [
    "# check model performance on test set\n",
    "xgb_pred = grid_os_xgb.best_estimator_.predict(X_test)\n",
    "print(accuracy_score(y_test, xgb_pred))\n",
    "print(f1_score(y_test, xgb_pred))\n",
    "print(classification_report(y_test, xgb_pred))"
   ]
  },
  {
   "attachments": {},
   "cell_type": "markdown",
   "metadata": {},
   "source": [
    "- the best parameters are {'gamma': 0, 'max_depth': 50, 'n_estimators': 500}, which means the model didn't regularize, the model is more complex because it has deeper trees and larger number of trees in the forest\n",
    "- The model performance on both training and testing improved compared to model trained on original and undersampled dataset, which suggest oversampling might be more effective\n",
    "- However, the model performance on testing dataset still has low precision, recall, F1 for positive , which means the model still can't capture how to predict positive class even after oversampling"
   ]
  },
  {
   "attachments": {},
   "cell_type": "markdown",
   "metadata": {},
   "source": [
    "#### Model Comparison"
   ]
  },
  {
   "cell_type": "code",
   "execution_count": 107,
   "metadata": {},
   "outputs": [
    {
     "name": "stdout",
     "output_type": "stream",
     "text": [
      "              precision    recall  f1-score   support\n",
      "\n",
      "           0       0.98      0.82      0.90      7724\n",
      "           1       0.22      0.79      0.35       498\n",
      "\n",
      "    accuracy                           0.82      8222\n",
      "   macro avg       0.60      0.81      0.62      8222\n",
      "weighted avg       0.94      0.82      0.86      8222\n",
      "\n",
      "              precision    recall  f1-score   support\n",
      "\n",
      "           0       0.98      0.81      0.89      7724\n",
      "           1       0.22      0.80      0.34       498\n",
      "\n",
      "    accuracy                           0.81      8222\n",
      "   macro avg       0.60      0.81      0.61      8222\n",
      "weighted avg       0.94      0.81      0.86      8222\n",
      "\n",
      "              precision    recall  f1-score   support\n",
      "\n",
      "           0       0.98      0.82      0.90      7724\n",
      "           1       0.22      0.79      0.35       498\n",
      "\n",
      "    accuracy                           0.82      8222\n",
      "   macro avg       0.60      0.81      0.62      8222\n",
      "weighted avg       0.94      0.82      0.86      8222\n",
      "\n"
     ]
    }
   ],
   "source": [
    "# logistic regression classification report\n",
    "logreg_pred_original = grid_original.best_estimator_.predict(X_test)\n",
    "print(classification_report(y_test, logreg_pred))\n",
    "\n",
    "logreg_pred_us = grid_us.best_estimator_.predict(X_test)\n",
    "print(classification_report(y_test, logreg_pred_us))\n",
    "\n",
    "logreg_pred_os = grid_os.best_estimator_.predict(X_test)\n",
    "print(classification_report(y_test, logreg_pred_os))\n"
   ]
  },
  {
   "cell_type": "code",
   "execution_count": 108,
   "metadata": {},
   "outputs": [
    {
     "name": "stdout",
     "output_type": "stream",
     "text": [
      "              precision    recall  f1-score   support\n",
      "\n",
      "           0       0.95      0.99      0.97      7724\n",
      "           1       0.48      0.18      0.26       498\n",
      "\n",
      "    accuracy                           0.94      8222\n",
      "   macro avg       0.72      0.58      0.62      8222\n",
      "weighted avg       0.92      0.94      0.93      8222\n",
      "\n",
      "              precision    recall  f1-score   support\n",
      "\n",
      "           0       0.99      0.81      0.89      7724\n",
      "           1       0.23      0.87      0.36       498\n",
      "\n",
      "    accuracy                           0.82      8222\n",
      "   macro avg       0.61      0.84      0.63      8222\n",
      "weighted avg       0.94      0.82      0.86      8222\n",
      "\n",
      "              precision    recall  f1-score   support\n",
      "\n",
      "           0       0.96      0.97      0.96      7724\n",
      "           1       0.40      0.32      0.36       498\n",
      "\n",
      "    accuracy                           0.93      8222\n",
      "   macro avg       0.68      0.65      0.66      8222\n",
      "weighted avg       0.92      0.93      0.93      8222\n",
      "\n"
     ]
    }
   ],
   "source": [
    "# random forest classification report\n",
    "rf_pred_original = grid_original_rf.best_estimator_.predict(X_test)\n",
    "print(classification_report(y_test, rf_pred_original))\n",
    "\n",
    "rf_pred_us = grid_us_rf.best_estimator_.predict(X_test)\n",
    "print(classification_report(y_test, rf_pred_us))\n",
    "\n",
    "rf_pred_os = grid_os_rf.best_estimator_.predict(X_test)\n",
    "print(classification_report(y_test, rf_pred_os))"
   ]
  },
  {
   "cell_type": "code",
   "execution_count": 109,
   "metadata": {},
   "outputs": [
    {
     "name": "stdout",
     "output_type": "stream",
     "text": [
      "              precision    recall  f1-score   support\n",
      "\n",
      "           0       0.96      0.98      0.97      7724\n",
      "           1       0.49      0.30      0.37       498\n",
      "\n",
      "    accuracy                           0.94      8222\n",
      "   macro avg       0.72      0.64      0.67      8222\n",
      "weighted avg       0.93      0.94      0.93      8222\n",
      "\n",
      "              precision    recall  f1-score   support\n",
      "\n",
      "           0       0.99      0.82      0.90      7724\n",
      "           1       0.24      0.88      0.38       498\n",
      "\n",
      "    accuracy                           0.83      8222\n",
      "   macro avg       0.62      0.85      0.64      8222\n",
      "weighted avg       0.95      0.83      0.87      8222\n",
      "\n",
      "              precision    recall  f1-score   support\n",
      "\n",
      "           0       0.96      0.96      0.96      7724\n",
      "           1       0.43      0.43      0.43       498\n",
      "\n",
      "    accuracy                           0.93      8222\n",
      "   macro avg       0.70      0.69      0.69      8222\n",
      "weighted avg       0.93      0.93      0.93      8222\n",
      "\n"
     ]
    }
   ],
   "source": [
    "#xgboost classification report\n",
    "xgb_pred_original = grid_original_xgb.best_estimator_.predict(X_test)\n",
    "print(classification_report(y_test, xgb_pred_original))\n",
    "\n",
    "xgb_pred_us = grid_us_xgb.best_estimator_.predict(X_test)\n",
    "print(classification_report(y_test, xgb_pred_us))\n",
    "\n",
    "xgb_pred_os = grid_os_xgb.best_estimator_.predict(X_test)\n",
    "print(classification_report(y_test, xgb_pred_os))"
   ]
  },
  {
   "attachments": {},
   "cell_type": "markdown",
   "metadata": {},
   "source": [
    "- overall, the XGBoost model with oversampled data performs the best considering both accuracy and F1 score. \n",
    "- the models all performed well if we only consider accuracy, but the F1 score is much lower.\n",
    "- the F1 score is a better metric to use in this case because the dataset is imbalanced and we want to predict positive class.\n",
    "- Considering three methods to deal with imbalanced data, the oversampling method performs the best, while undersampling performs the worst, it doesn't help with F1 score and also decreases accuracy, probably due to small sample size."
   ]
  },
  {
   "cell_type": "code",
   "execution_count": 112,
   "metadata": {},
   "outputs": [
    {
     "data": {
      "text/plain": [
       "contact_unknown      0.257999\n",
       "month_mar            0.071141\n",
       "month_jul            0.058168\n",
       "duration             0.056362\n",
       "month_jan            0.056301\n",
       "month_oct            0.039109\n",
       "month_nov            0.038154\n",
       "month_aug            0.036199\n",
       "default              0.032342\n",
       "housing              0.028584\n",
       "loan                 0.023863\n",
       "job_entrepreneur     0.021464\n",
       "month_dec            0.020632\n",
       "campaign             0.017938\n",
       "contact_telephone    0.016918\n",
       "month_feb            0.016743\n",
       "job_housemaid        0.015960\n",
       "age                  0.015117\n",
       "month_sep            0.014626\n",
       "balance              0.014371\n",
       "month_jun            0.013531\n",
       "job_services         0.013483\n",
       "month_may            0.013120\n",
       "day                  0.011195\n",
       "job_self-employed    0.010902\n",
       "job_unemployed       0.010785\n",
       "job_student          0.010604\n",
       "education            0.010488\n",
       "job_blue-collar      0.010339\n",
       "job_retired          0.009489\n",
       "job_technician       0.009376\n",
       "marital_married      0.008351\n",
       "marital_single       0.008333\n",
       "job_management       0.008014\n",
       "pdays                0.000000\n",
       "previous             0.000000\n",
       "dtype: float32"
      ]
     },
     "execution_count": 112,
     "metadata": {},
     "output_type": "execute_result"
    }
   ],
   "source": [
    "# check model feature importance for xgboost\n",
    "feature_importance = pd.Series(grid_os_xgb.best_estimator_.feature_importances_, index=X_train.columns).sort_values(ascending=False)\n",
    "feature_importance"
   ]
  },
  {
   "cell_type": "code",
   "execution_count": 114,
   "metadata": {},
   "outputs": [
    {
     "data": {
      "text/plain": [
       "duration             0.178421\n",
       "day                  0.171306\n",
       "contact_unknown      0.080383\n",
       "age                  0.064875\n",
       "housing              0.055055\n",
       "balance              0.036974\n",
       "education            0.035792\n",
       "month_jul            0.029286\n",
       "month_may            0.027409\n",
       "month_aug            0.027013\n",
       "loan                 0.020942\n",
       "campaign             0.020825\n",
       "month_mar            0.020781\n",
       "marital_married      0.019226\n",
       "month_jun            0.016768\n",
       "month_oct            0.016640\n",
       "month_nov            0.016361\n",
       "job_technician       0.016317\n",
       "job_management       0.015454\n",
       "job_blue-collar      0.015281\n",
       "marital_single       0.015192\n",
       "month_feb            0.013087\n",
       "contact_telephone    0.012164\n",
       "month_jan            0.010392\n",
       "job_student          0.009874\n",
       "job_services         0.009818\n",
       "job_retired          0.008322\n",
       "month_sep            0.007260\n",
       "job_self-employed    0.006131\n",
       "job_entrepreneur     0.006018\n",
       "job_unemployed       0.005641\n",
       "job_housemaid        0.004291\n",
       "default              0.003632\n",
       "month_dec            0.003067\n",
       "previous             0.000000\n",
       "pdays                0.000000\n",
       "dtype: float64"
      ]
     },
     "execution_count": 114,
     "metadata": {},
     "output_type": "execute_result"
    }
   ],
   "source": [
    "#check model feature importance for random forest\n",
    "feature_importance = pd.Series(grid_os_rf.best_estimator_.feature_importances_, index=X_train.columns).sort_values(ascending=False)\n",
    "feature_importance"
   ]
  },
  {
   "cell_type": "code",
   "execution_count": 116,
   "metadata": {},
   "outputs": [
    {
     "data": {
      "text/plain": [
       "month_mar            1.713945\n",
       "duration             1.601660\n",
       "month_oct            1.552837\n",
       "job_student          0.926703\n",
       "month_dec            0.648677\n",
       "job_retired          0.448458\n",
       "month_sep            0.371244\n",
       "education            0.289389\n",
       "contact_telephone    0.170602\n",
       "balance              0.170172\n",
       "marital_single       0.122861\n",
       "age                  0.082280\n",
       "pdays                0.000000\n",
       "previous             0.000000\n",
       "day                 -0.021180\n",
       "job_entrepreneur    -0.047437\n",
       "marital_married     -0.132241\n",
       "job_technician      -0.139070\n",
       "campaign            -0.176095\n",
       "job_management      -0.227835\n",
       "job_unemployed      -0.228763\n",
       "job_services        -0.275251\n",
       "default             -0.370792\n",
       "job_blue-collar     -0.410341\n",
       "month_jun           -0.533828\n",
       "job_self-employed   -0.552818\n",
       "job_housemaid       -0.634610\n",
       "month_feb           -0.807768\n",
       "loan                -0.920927\n",
       "housing             -0.934775\n",
       "month_may           -1.387098\n",
       "month_nov           -1.514354\n",
       "month_aug           -1.938080\n",
       "month_jul           -1.991320\n",
       "contact_unknown     -2.041944\n",
       "month_jan           -2.163250\n",
       "dtype: float64"
      ]
     },
     "execution_count": 116,
     "metadata": {},
     "output_type": "execute_result"
    }
   ],
   "source": [
    "# check model feature importance for logistic regression\n",
    "feature_importance = pd.Series(grid_os.best_estimator_.coef_[0], index=X_train.columns).sort_values(ascending=False)\n",
    "feature_importance"
   ]
  },
  {
   "attachments": {},
   "cell_type": "markdown",
   "metadata": {},
   "source": [
    "from the feature importance, we can see that the most important features are duration and month of previous contact. Duration is the last contact duration. These suggests the previous contact with a customer is predictive of marketing success, this makes sense because this means customer has good relationship with the bank, which makes them more likely to subscribe to this bank term deposit\n"
   ]
  },
  {
   "cell_type": "code",
   "execution_count": 101,
   "metadata": {},
   "outputs": [],
   "source": [
    "# save model\n",
    "import pickle\n",
    "pickle.dump(grid_os_xgb, open('grid_os_xgb.pkl', 'wb'))\n",
    "pickle.dump(grid_original_xgb, open('grid_os_rf.pkl', 'wb'))"
   ]
  },
  {
   "cell_type": "code",
   "execution_count": null,
   "metadata": {},
   "outputs": [],
   "source": []
  }
 ],
 "metadata": {
  "kernelspec": {
   "display_name": "Python 3",
   "language": "python",
   "name": "python3"
  },
  "language_info": {
   "codemirror_mode": {
    "name": "ipython",
    "version": 3
   },
   "file_extension": ".py",
   "mimetype": "text/x-python",
   "name": "python",
   "nbconvert_exporter": "python",
   "pygments_lexer": "ipython3",
   "version": "3.10.10"
  },
  "orig_nbformat": 4,
  "vscode": {
   "interpreter": {
    "hash": "ac86d215dea9a0cdf4bbda73266032985b78d84038a3539ec44e8b053ab6c7d7"
   }
  }
 },
 "nbformat": 4,
 "nbformat_minor": 2
}
